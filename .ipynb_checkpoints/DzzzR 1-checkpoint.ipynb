{
 "cells": [
  {
   "cell_type": "markdown",
   "metadata": {},
   "source": [
    "###DzzzR Notebooks: подстановки\n",
    "---\n",
    "© Alexander Demsky, 2015\n",
    "\n",
    "Для начала работы с блокнотом выполните все скрипты (`Cell` → `Run All`)."
   ]
  },
  {
   "cell_type": "code",
   "execution_count": 44,
   "metadata": {
    "collapsed": false
   },
   "outputs": [
    {
     "data": {
      "text/html": [
       "<script>\n",
       "code_show=true; \n",
       "function code_toggle() {\n",
       " if (code_show){\n",
       " $('div.input').hide();\n",
       " } else {\n",
       " $('div.input').show();\n",
       " }\n",
       " code_show = !code_show\n",
       "} \n",
       "$( document ).ready(code_toggle);\n",
       "</script>\n",
       "<form action=\"javascript:code_toggle()\"><input type=\"submit\" value=\"Показать/скрыть скрипты.\"></form>"
      ],
      "text/plain": [
       "<IPython.core.display.HTML object>"
      ]
     },
     "execution_count": 44,
     "metadata": {},
     "output_type": "execute_result"
    }
   ],
   "source": [
    "import warnings\n",
    "warnings.filterwarnings('ignore')\n",
    "\n",
    "from IPython.display import HTML\n",
    "\n",
    "HTML('''<script>\n",
    "code_show=true; \n",
    "function code_toggle() {\n",
    " if (code_show){\n",
    " $('div.input').hide();\n",
    " } else {\n",
    " $('div.input').show();\n",
    " }\n",
    " code_show = !code_show\n",
    "} \n",
    "$( document ).ready(code_toggle);\n",
    "</script>\n",
    "<form action=\"javascript:code_toggle()\"><input type=\"submit\" value=\"Показать/скрыть скрипты.\"></form>''')"
   ]
  },
  {
   "cell_type": "code",
   "execution_count": 45,
   "metadata": {
    "collapsed": false
   },
   "outputs": [],
   "source": [
    "# from __future__ import print_function\n",
    "from IPython.html.widgets import interact, interactive, fixed\n",
    "from IPython.html import widgets\n",
    "from IPython.display import Markdown\n",
    "from collections import OrderedDict"
   ]
  },
  {
   "cell_type": "code",
   "execution_count": 46,
   "metadata": {
    "collapsed": false
   },
   "outputs": [
    {
     "data": {
      "text/html": [
       "<style>\n",
       ".widget-label {\n",
       "    min-width:20ex !important;\n",
       "}\n",
       "</style>"
      ],
      "text/plain": [
       "<IPython.core.display.HTML object>"
      ]
     },
     "metadata": {},
     "output_type": "display_data"
    }
   ],
   "source": [
    "%%html\n",
    "<style>\n",
    ".widget-label {\n",
    "    min-width:20ex !important;\n",
    "}\n",
    "</style>"
   ]
  },
  {
   "cell_type": "markdown",
   "metadata": {},
   "source": [
    "#Подстановочные коды.\n",
    "Простейшие коды прямой замены. Алфавит наоборот, клавиатура, литореи и т.п."
   ]
  },
  {
   "cell_type": "code",
   "execution_count": 47,
   "metadata": {
    "collapsed": false
   },
   "outputs": [
    {
     "name": "stdout",
     "output_type": "stream",
     "text": [
      "НРРЮЁЪСЦЪ\n"
     ]
    }
   ],
   "source": [
    "substs=[('А ⇒ Я, A ⇒ Z',('АБВГДЕЁЖЗИЙКЛМНОПРСТУФХЦЧШЩЪЫЬЭЮЯABCDEFGHIJKLMNOPQRSTUVWXYZ0123456789','ЯЮЭЬЫЪЩШЧЦХФУТСРПОНМЛКЙИЗЖЁЕДГВБАZYXWVUTSRQPONMLKJIHGFEDCBA9876543210')),\n",
    "        ('О ⇒ Ё',('АБВГДЕЁЖЗИЙКЛМНОПРСТУФХЦЧШЩЪЫЬЭЮЯ','ЯБВГДЭОЖЗЫЙКЛМНЁПРСТЮФХЦЧШЩЪИЬЕУА')),\n",
    "        ('П ⇒ Б',('АБВГДЕЁЖЗИЙКЛМНОПРСТУФХЦЧШЩЪЫЬЭЮЯ','АПФКТЕЁШСИЙГРНМОБЛЗДУВГЧЦЖЩЪЫЬЭЮЯ')),\n",
    "        ('ОП ⇒ ЁБ',('АБВГДЕЁЖЗИЙКЛМНОПРСТУФХЦЧШЩЪЫЬЭЮЯ','ЯПФКТЭОШСЫЙГРНМЁБЛЗДЮВГЧЦЖЩЪИЬЕУА')),\n",
    "        ('КЛАВИАТУРА',('ЙЦУКЕНГШЩЗХЪЁФЫВАПРОЛДЖЭЯЧСМИТЬБЮ','QWERTYUIOP[]`ASDFGHJKL;\\'ZXCVBNM,.')),\n",
    "        ('Цезарь, сдвиг 1',('АБВГДЕЁЖЗИЙКЛМНОПРСТУФХЦЧШЩЪЫЬЭЮЯABCDEFGHIJKLMNOPQRSTUVWXYZ0123456789','БВГДЕЁЖЗИЙКЛМНОПРСТУФХЦЧШЩЪЫЬЭЮЯАBCDEFGHIJKLMNOPQRSTUVWXYZA1234567890')),\n",
    "        ('Цезарь, сдвиг 2',('АБВГДЕЁЖЗИЙКЛМНОПРСТУФХЦЧШЩЪЫЬЭЮЯABCDEFGHIJKLMNOPQRSTUVWXYZ0123456789','ВГДЕЁЖЗИЙКЛМНОПРСТУФХЦЧШЩЪЫЬЭЮЯАБCDEFGHIJKLMNOPQRSTUVWXYZAB2345678901')),\n",
    "        ('Цезарь, сдвиг 3',('АБВГДЕЁЖЗИЙКЛМНОПРСТУФХЦЧШЩЪЫЬЭЮЯABCDEFGHIJKLMNOPQRSTUVWXYZ0123456789','ГДЕЁЖЗИЙКЛМНОПРСТУФХЦЧШЩЪЫЬЭЮЯАБВDEFGHIJKLMNOPQRSTUVWXYZABC3456789012')),\n",
    "        ('Hex 123 ⇒ ABC',('0123456789ABCDEF','ABCDEFGHIJ012345')),\n",
    "        ('Литорея простая',('ЪЬАЕЁИОУЫЭЮЯБВГДЖЗЙКЛМНПРСТФХЦЧШЩAEIOUYBCDFGHJKLMNPQRSTVWXZ','ЪЬАЕЁИОУЫЭЮЯЩШЧЦХФТСРПНМЛКЙЗЖДГВБAEIOUYZXWVTSRQPNMLKJHGFDCB')),\n",
    "        ('Литорея + гласные',('ЪЬАЕЁИОУЫЭЮЯБВГДЖЗЙКЛМНПРСТФХЦЧШЩ','ЪЬЯЮЭЫУОИЁЕАЩШЧЦХФТСРПНМЛКЙЗЖДГВБ')),\n",
    "        ('Литорея синадская',('ЪЬАЕЁИОУЫЭЮЯбвгджзклмнцщфтчрпхсш','ЪЬАЕЁИОУЫЭЮЯцщфтчрпхсшбвгджзклмн')),\n",
    "        ('Литорея азадская',('ЪЬАЕЁИОУЫЭЮЯбвгджзклмнцщфтчрпхсш','ЪЬАЕЁИОУЫЭЮЯфчсршщцтпхбвгджзклмн')),\n",
    "        ('Литорея мефодская',('ЪЬАЕЁИОУЫЭЮЯбвгджзклмнштцчфхрпщс','ЪЬАЕЁИОУЫЭЮЯштцчфхрпщсбвгджзклмн')),\n",
    "        ('Литорея Метофрястская',('ЪЬАЕЁИОУЫЭЮЯбвгджзклмнтшхчрпсщцф','ЪЬАЕЁИОУЫЭЮЯтшхчрпсщцфбвгджзклмн')),\n",
    "        ('Литорея - Википедия',('аеёиоуыэюяйъьбвгджзклмнщшчцхфтсрп','аеёиоуыэюяйъьщшчцхфтсрпбвгджзклмн')),]\n",
    "\n",
    "@interact(x=widgets.TextWidget(description='Сообщение:',value='СООБЩЕНИЕ'),\n",
    "        y=widgets.DropdownWidget(description='Алфавит:',options=OrderedDict(substs)))\n",
    "def h(x='СООБЩЕНИЕ', y=('','')):  \n",
    "    try:\n",
    "        y=(y[0].upper(),y[1].upper())\n",
    "        z=[y[1][y[0].index(l)] if l in y[0] else l for l in x.upper()]\n",
    "        print(''.join(z))\n",
    "    except:\n",
    "        Markdown('*Введите сообщение и выберите алфавит...*')\n",
    "    "
   ]
  },
  {
   "cell_type": "markdown",
   "metadata": {},
   "source": [
    "#Другая подстановка\n",
    "Введите сообщение, алфавит сообщения и алфавит подстановки."
   ]
  },
  {
   "cell_type": "code",
   "execution_count": 48,
   "metadata": {
    "collapsed": false
   },
   "outputs": [
    {
     "name": "stdout",
     "output_type": "stream",
     "text": [
      "НРРЮЁЪСЦЪ\n"
     ]
    }
   ],
   "source": [
    "@interact(x=widgets.TextWidget(description='Сообщение:', value='СООБЩЕНИЕ'),\n",
    "          y=widgets.TextWidget(description='Алфавит:',value='АБВГДЕЁЖЗИЙКЛМНОПРСТУФХЦЧШЩЪЫЬЭЮЯABCDEFGHIJKLMNOPQRSTUVWXYZ'),\n",
    "          z=widgets.TextWidget(description='Подстановка:',value='ЯЮЭЬЫЪЩШЧЦХФУТСРПОНМЛКЙИЗЖЁЕДГВБАZYXWVUTSRQPONMLKJIHGFEDCBA'))\n",
    "def h(x='СООБЩЕНИЕ', y='АБВГДЕЁЖЗИЙКЛМНОПРСТУФХЦЧШЩЪЫЬЭЮЯABCDEFGHIJKLMNOPQRSTUVWXYZ', z='ЯЮЭЬЫЪЩШЧЦХФУТСРПОНМЛКЙИЗЖЁЕДГВБАZYXWVUTSRQPONMLKJIHGFEDCBA'):    \n",
    "    try:\n",
    "        y,z=y.upper(),z.upper()\n",
    "        r=[z[y.index(l)] if l in y else l for l in x.upper()]\n",
    "        print(''.join(r))\n",
    "    except:\n",
    "        Markdown('*Введите сообщение, алфавит и подстановку...*')"
   ]
  },
  {
   "cell_type": "code",
   "execution_count": null,
   "metadata": {
    "collapsed": true
   },
   "outputs": [],
   "source": []
  }
 ],
 "metadata": {
  "kernelspec": {
   "display_name": "Python 3",
   "language": "python",
   "name": "python3"
  },
  "language_info": {
   "codemirror_mode": {
    "name": "ipython",
    "version": 3
   },
   "file_extension": ".py",
   "mimetype": "text/x-python",
   "name": "python",
   "nbconvert_exporter": "python",
   "pygments_lexer": "ipython3",
   "version": "3.4.3"
  }
 },
 "nbformat": 4,
 "nbformat_minor": 0
}
