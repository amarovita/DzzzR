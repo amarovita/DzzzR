{
 "cells": [
  {
   "cell_type": "code",
   "execution_count": 1,
   "metadata": {
    "collapsed": false
   },
   "outputs": [
    {
     "data": {
      "text/html": [
       "<script>\n",
       "code_show=true; \n",
       "function code_toggle() {\n",
       " if (code_show){\n",
       " $('div.input').hide();\n",
       " } else {\n",
       " $('div.input').show();\n",
       " }\n",
       " code_show = !code_show\n",
       "} \n",
       "$( document ).ready(code_toggle);\n",
       "</script>\n",
       "<form action=\"javascript:code_toggle()\"><input type=\"submit\" value=\"Показать/скрыть скрипты.\"></form>"
      ],
      "text/plain": [
       "<IPython.core.display.HTML object>"
      ]
     },
     "execution_count": 1,
     "metadata": {},
     "output_type": "execute_result"
    }
   ],
   "source": [
    "from IPython.display import HTML\n",
    "\n",
    "HTML('''<script>\n",
    "code_show=true; \n",
    "function code_toggle() {\n",
    " if (code_show){\n",
    " $('div.input').hide();\n",
    " } else {\n",
    " $('div.input').show();\n",
    " }\n",
    " code_show = !code_show\n",
    "} \n",
    "$( document ).ready(code_toggle);\n",
    "</script>\n",
    "<form action=\"javascript:code_toggle()\"><input type=\"submit\" value=\"Показать/скрыть скрипты.\"></form>''')"
   ]
  },
  {
   "cell_type": "code",
   "execution_count": 2,
   "metadata": {
    "collapsed": false
   },
   "outputs": [
    {
     "name": "stderr",
     "output_type": "stream",
     "text": [
      ":0: FutureWarning: IPython widgets are experimental and may change in the future.\n"
     ]
    }
   ],
   "source": [
    "from __future__ import print_function\n",
    "from IPython.html.widgets import interact, interactive, fixed\n",
    "from IPython.html import widgets"
   ]
  },
  {
   "cell_type": "markdown",
   "metadata": {},
   "source": [
    "#Подстановочные коды.\n",
    "Простейшие коды прямой замены. Алфавит наоборот, клавиатура, литореи и т.п.\n",
    "\n",
    "* `x`: Текст сообщения\n",
    "* `y`: Алфавит"
   ]
  },
  {
   "cell_type": "code",
   "execution_count": 5,
   "metadata": {
    "collapsed": false
   },
   "outputs": [
    {
     "name": "stdout",
     "output_type": "stream",
     "text": [
      "ЛООЩБЕПИЕ\n"
     ]
    }
   ],
   "source": [
    "@interact(x='СООБЩЕНИЕ',y={\n",
    "        'А ⇒ Я, A ⇒ Z':('АБВГДЕЁЖЗИЙКЛМНОПРСТУФХЦЧШЩЪЫЬЭЮЯABCDEFGHIJKLMNOPQRSTUVWXYZ','ЯЮЭЬЫЪЩШЧЦХФУТСРПОНМЛКЙИЗЖЁЕДГВБАZYXWVUTSRQPONMLKJIHGFEDCBA'),\n",
    "        'О ⇒ Ё':('АБВГДЕЁЖЗИЙКЛМНОПРСТУФХЦЧШЩЪЫЬЭЮЯ','ЯБВГДЭОЖЗЫЙКЛМНЁПРСТЮФХЦЧШЩЪИЬЕУА'),\n",
    "        'П ⇒ Б':('АБВГДЕЁЖЗИЙКЛМНОПРСТУФХЦЧШЩЪЫЬЭЮЯ','АПФКТЕЁШСИЙГРНМОБЛЗДУВГЧЦЖЩЪЫЬЭЮЯ'),\n",
    "        'ОП ⇒ ЁБ':('АБВГДЕЁЖЗИЙКЛМНОПРСТУФХЦЧШЩЪЫЬЭЮЯ','ЯПФКТЭОШСЫЙГРНМЁБЛЗДЮВГЧЦЖЩЪИЬЕУА'),\n",
    "        'КЛАВИАТУРА':('ЙЦУКЕНГШЩЗХЪЁФЫВАПРОЛДЖЭЯЧСМИТЬБЮ','QWERTYUIOP[]`ASDFGHJKL;\\'ZXCVBNM,.'),\n",
    "        'Цезарь':('АБВГДЕЁЖЗИЙКЛМНОПРСТУФХЦЧШЩЪЫЬЭЮЯABCDEFGHIJKLMNOPQRSTUVWXYZ','БВГДЕЁЖЗИЙКЛМНОПРСТУФХЦЧШЩЪЫЬЭЮЯАBCDEFGHIJKLMNOPQRSTUVWXYZA'),\n",
    "        'Hex 123 ⇒ ABC':('0123456789ABCDEF','ABCDEFGHIJ012345'),\n",
    "        'Литорея простая':('ЪЬАЕЁИОУЫЭЮЯБВГДЖЗЙКЛМНПРСТФХЦЧШЩAEIOUYBCDFGHJKLMNPQRSTVWXZ','ЪЬАЕЁИОУЫЭЮЯЩШЧЦХФТСРПНМЛКЙЗЖДГВБAEIOUYZXWVTSRQPNMLKJHGFDCB'),\n",
    "        'Литорея + гласные':('ЪЬАЕЁИОУЫЭЮЯБВГДЖЗЙКЛМНПРСТФХЦЧШЩ','ЪЬЯЮЭЫУОИЁЕАЩШЧЦХФТСРПНМЛКЙЗЖДГВБ'),\n",
    "        'Литорея синадская':('ЪЬАЕЁИОУЫЭЮЯбвгджзклмнцщфтчрпхсш','ЪЬАЕЁИОУЫЭЮЯцщфтчрпхсшбвгджзклмн'),\n",
    "        'Литорея азадская':('ЪЬАЕЁИОУЫЭЮЯбвгджзклмнцщфтчрпхсш','ЪЬАЕЁИОУЫЭЮЯфчсршщцтпхбвгджзклмн'),\n",
    "        'Литорея мефодская':('ЪЬАЕЁИОУЫЭЮЯбвгджзклмнштцчфхрпщс','ЪЬАЕЁИОУЫЭЮЯштцчфхрпщсбвгджзклмн'),\n",
    "        'Литорея Метофрястская':('ЪЬАЕЁИОУЫЭЮЯбвгджзклмнтшхчрпсщцф','ЪЬАЕЁИОУЫЭЮЯтшхчрпсщцфбвгджзклмн'),\n",
    "        'Литорея - Википедия':('аеёиоуыэюяйъьбвгджзклмнщшчцхфтсрп','аеёиоуыэюяйъьщшчцхфтсрпбвгджзклмн'),\n",
    "    })\n",
    "def h(x='СООБЩЕНИЕ', y=('','')):    \n",
    "    y=(y[0].upper(),y[1].upper())\n",
    "    z=[y[1][y[0].index(l)] if l in y[0] else l for l in x.upper()]\n",
    "    print(''.join(z))\n",
    "    "
   ]
  },
  {
   "cell_type": "markdown",
   "metadata": {},
   "source": [
    "#Другая подстановка\n",
    "Введите сообщение **X**, алфавит сообщения **Y** и алфавит подстановки **Z**."
   ]
  },
  {
   "cell_type": "code",
   "execution_count": 6,
   "metadata": {
    "collapsed": false
   },
   "outputs": [
    {
     "name": "stdout",
     "output_type": "stream",
     "text": [
      "НРРЮЁЪСЦЪ\n"
     ]
    }
   ],
   "source": [
    "@interact(x='СООБЩЕНИЕ',y='АБВГДЕЁЖЗИЙКЛМНОПРСТУФХЦЧШЩЪЫЬЭЮЯABCDEFGHIJKLMNOPQRSTUVWXYZ',z='ЯЮЭЬЫЪЩШЧЦХФУТСРПОНМЛКЙИЗЖЁЕДГВБАZYXWVUTSRQPONMLKJIHGFEDCBA')\n",
    "def h(x='СООБЩЕНИЕ', y='АБВГДЕЁЖЗИЙКЛМНОПРСТУФХЦЧШЩЪЫЬЭЮЯABCDEFGHIJKLMNOPQRSTUVWXYZ', z='ЯЮЭЬЫЪЩШЧЦХФУТСРПОНМЛКЙИЗЖЁЕДГВБАZYXWVUTSRQPONMLKJIHGFEDCBA'):    \n",
    "    try:\n",
    "        y,z=y.upper(),z.upper()\n",
    "        r=[z[y.index(l)] if l in y else l for l in x.upper()]\n",
    "        print(''.join(r))\n",
    "    except:\n",
    "        print('*Ошибка*')"
   ]
  },
  {
   "cell_type": "code",
   "execution_count": null,
   "metadata": {
    "collapsed": true
   },
   "outputs": [],
   "source": []
  }
 ],
 "metadata": {
  "kernelspec": {
   "display_name": "Python 3",
   "language": "python",
   "name": "python3"
  },
  "language_info": {
   "codemirror_mode": {
    "name": "ipython",
    "version": 3
   },
   "file_extension": ".py",
   "mimetype": "text/x-python",
   "name": "python",
   "nbconvert_exporter": "python",
   "pygments_lexer": "ipython3",
   "version": "3.4.3"
  }
 },
 "nbformat": 4,
 "nbformat_minor": 0
}
